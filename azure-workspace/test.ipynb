{
 "cells": [
  {
   "cell_type": "code",
   "execution_count": 36,
   "metadata": {},
   "outputs": [],
   "source": [
    "import azureml.core\n",
    "from azureml.core import Workspace, Datastore"
   ]
  },
  {
   "cell_type": "code",
   "execution_count": 37,
   "metadata": {},
   "outputs": [],
   "source": [
    "ws = Workspace.from_config(path='./config.json')"
   ]
  },
  {
   "cell_type": "code",
   "execution_count": 38,
   "metadata": {},
   "outputs": [],
   "source": [
    "from azureml.core.environment import Environment\n",
    "from azureml.core.conda_dependencies import CondaDependencies"
   ]
  },
  {
   "cell_type": "code",
   "execution_count": 39,
   "metadata": {},
   "outputs": [],
   "source": [
    "env = Environment(name='bookstrator')"
   ]
  },
  {
   "cell_type": "code",
   "execution_count": 40,
   "metadata": {},
   "outputs": [],
   "source": [
    "conda_dep = CondaDependencies()\n",
    "\n",
    "# Installs scikit-learn version 0.21.3 conda package\n",
    "conda_dep.add_pip_package(\"PyMuPDF==1.16.11==0.21.3\")\n",
    "conda_dep.add_pip_package(\"fitz\")\n",
    "\n",
    "# Adds dependencies to PythonSection of myenv\n",
    "env.python.conda_dependencies = conda_dep"
   ]
  },
  {
   "cell_type": "code",
   "execution_count": 41,
   "metadata": {},
   "outputs": [
    {
     "data": {
      "text/plain": [
       "{\n",
       "    \"name\": \"bookstrator\",\n",
       "    \"version\": \"3\",\n",
       "    \"environmentVariables\": {\n",
       "        \"EXAMPLE_ENV_VAR\": \"EXAMPLE_VALUE\"\n",
       "    },\n",
       "    \"python\": {\n",
       "        \"userManagedDependencies\": false,\n",
       "        \"interpreterPath\": \"python\",\n",
       "        \"condaDependenciesFile\": null,\n",
       "        \"baseCondaEnvironment\": null,\n",
       "        \"condaDependencies\": {\n",
       "            \"channels\": [\n",
       "                \"conda-forge\"\n",
       "            ],\n",
       "            \"dependencies\": [\n",
       "                \"python=3.6.2\",\n",
       "                {\n",
       "                    \"pip\": [\n",
       "                        \"azureml-defaults\",\n",
       "                        \"PyMuPDF==1.16.11==0.21.3\",\n",
       "                        \"fitz\"\n",
       "                    ]\n",
       "                }\n",
       "            ],\n",
       "            \"name\": \"azureml_cdf40690fdf959df045b77be181464fc\"\n",
       "        }\n",
       "    },\n",
       "    \"docker\": {\n",
       "        \"enabled\": false,\n",
       "        \"baseImage\": \"mcr.microsoft.com/azureml/base:intelmpi2018.3-ubuntu16.04\",\n",
       "        \"baseDockerfile\": null,\n",
       "        \"sharedVolumes\": true,\n",
       "        \"shmSize\": null,\n",
       "        \"arguments\": [],\n",
       "        \"baseImageRegistry\": {\n",
       "            \"address\": null,\n",
       "            \"username\": null,\n",
       "            \"password\": null\n",
       "        }\n",
       "    },\n",
       "    \"spark\": {\n",
       "        \"repositories\": [],\n",
       "        \"packages\": [],\n",
       "        \"precachePackages\": true\n",
       "    },\n",
       "    \"databricks\": {\n",
       "        \"mavenLibraries\": [],\n",
       "        \"pypiLibraries\": [],\n",
       "        \"rcranLibraries\": [],\n",
       "        \"jarLibraries\": [],\n",
       "        \"eggLibraries\": []\n",
       "    },\n",
       "    \"inferencingStackVersion\": null\n",
       "}"
      ]
     },
     "execution_count": 41,
     "metadata": {},
     "output_type": "execute_result"
    }
   ],
   "source": [
    "env.register(workspace=ws)"
   ]
  },
  {
   "cell_type": "code",
   "execution_count": 42,
   "metadata": {},
   "outputs": [],
   "source": [
    "# Default datastore\n",
    "def_data_store = ws.get_default_datastore()"
   ]
  },
  {
   "cell_type": "code",
   "execution_count": 43,
   "metadata": {},
   "outputs": [],
   "source": [
    "# Get the blob storage associated with the workspace\n",
    "def_blob_store = Datastore(ws, \"workspaceblobstore\")"
   ]
  },
  {
   "cell_type": "code",
   "execution_count": 44,
   "metadata": {},
   "outputs": [],
   "source": [
    "# Get file storage associated with the workspace\n",
    "def_file_store = Datastore(ws, \"workspacefilestore\")"
   ]
  },
  {
   "cell_type": "code",
   "execution_count": 15,
   "metadata": {},
   "outputs": [
    {
     "name": "stdout",
     "output_type": "stream",
     "text": [
      "Uploading an estimated of 1 files\n",
      "Uploading ./raw-data/aesops-fables.pdf\n",
      "Uploaded ./raw-data/aesops-fables.pdf, 1 files out of an estimated total of 1\n",
      "Uploaded 1 files\n"
     ]
    },
    {
     "data": {
      "text/plain": [
       "$AZUREML_DATAREFERENCE_580ae3d5a50544c5bd446e7f3aecc896"
      ]
     },
     "execution_count": 15,
     "metadata": {},
     "output_type": "execute_result"
    }
   ],
   "source": [
    "def_blob_store.upload_files(\n",
    "    ['./raw-data/aesops-fables.pdf'],\n",
    "    target_path='aesops-fables',\n",
    "    overwrite=True\n",
    ")"
   ]
  },
  {
   "cell_type": "code",
   "execution_count": 45,
   "metadata": {},
   "outputs": [],
   "source": [
    "from azureml.data.data_reference import DataReference"
   ]
  },
  {
   "cell_type": "code",
   "execution_count": 46,
   "metadata": {},
   "outputs": [],
   "source": [
    "blob_input_data = DataReference(\n",
    "    datastore=def_blob_store,\n",
    "    data_reference_name='test_data',\n",
    "    path_on_datastore='aesops-fables/aesops-fables.pdf'\n",
    ")"
   ]
  },
  {
   "cell_type": "code",
   "execution_count": 47,
   "metadata": {},
   "outputs": [],
   "source": [
    "from azureml.pipeline.core import PipelineData"
   ]
  },
  {
   "cell_type": "code",
   "execution_count": 48,
   "metadata": {},
   "outputs": [],
   "source": [
    "output_data1 = PipelineData(\n",
    "    \"output_data1\",\n",
    "    datastore=def_blob_store,\n",
    "    output_name=\"output_data1\"\n",
    ")"
   ]
  },
  {
   "cell_type": "code",
   "execution_count": 49,
   "metadata": {},
   "outputs": [],
   "source": [
    "from azureml.pipeline.steps import PythonScriptStep"
   ]
  },
  {
   "cell_type": "code",
   "execution_count": 50,
   "metadata": {
    "scrolled": true
   },
   "outputs": [
    {
     "name": "stdout",
     "output_type": "stream",
     "text": [
      "Found existing cluster, use it.\n",
      "Succeeded\n",
      "AmlCompute wait for completion finished\n",
      "\n",
      "Minimum number of nodes requested have been provisioned\n"
     ]
    }
   ],
   "source": [
    "from azureml.core.compute import ComputeTarget, AmlCompute\n",
    "from azureml.core.compute_target import ComputeTargetException\n",
    "\n",
    "# Choose a name for your CPU cluster\n",
    "cpu_cluster_name = \"cpucluster\"\n",
    "\n",
    "# Verify that cluster does not exist already\n",
    "try:\n",
    "    cpu_cluster = ComputeTarget(workspace=ws, name=cpu_cluster_name)\n",
    "    print('Found existing cluster, use it.')\n",
    "except ComputeTargetException:\n",
    "    compute_config = AmlCompute.provisioning_configuration(vm_size='Standard_DS15_v2',\n",
    "                                                           max_nodes=4)\n",
    "    cpu_cluster = ComputeTarget.create(ws, cpu_cluster_name, compute_config)\n",
    "\n",
    "cpu_cluster.wait_for_completion(show_output=True)"
   ]
  },
  {
   "cell_type": "code",
   "execution_count": 60,
   "metadata": {},
   "outputs": [],
   "source": [
    "from azureml.core import RunConfiguration\n",
    "\n",
    "# setup run configuration for the step below, for the sake of virtual env\n",
    "runconfig = RunConfiguration(conda_dependencies=conda_dep)"
   ]
  },
  {
   "cell_type": "code",
   "execution_count": 61,
   "metadata": {},
   "outputs": [],
   "source": [
    "parse_step = PythonScriptStep(\n",
    "    script_name='convert_to_csv.py',\n",
    "    arguments=['--input_file', blob_input_data, '--output_file', output_data1, '--start_page', 1, '--end_page', 88],\n",
    "    inputs=[blob_input_data],\n",
    "    outputs=[output_data1],\n",
    "    compute_target=cpu_cluster,\n",
    "    runconfig=runconfig,\n",
    "    source_directory='../PDFReader'\n",
    ")"
   ]
  },
  {
   "cell_type": "code",
   "execution_count": 62,
   "metadata": {},
   "outputs": [],
   "source": [
    "from azureml.pipeline.core import Pipeline"
   ]
  },
  {
   "cell_type": "code",
   "execution_count": 63,
   "metadata": {},
   "outputs": [],
   "source": [
    "pipeline1 = Pipeline(workspace=ws, steps=[parse_step])"
   ]
  },
  {
   "cell_type": "code",
   "execution_count": null,
   "metadata": {},
   "outputs": [],
   "source": [
    "cts = ws.compute_targets\n",
    "for ct in cts:\n",
    "    print(ct)"
   ]
  },
  {
   "cell_type": "code",
   "execution_count": 64,
   "metadata": {},
   "outputs": [
    {
     "name": "stdout",
     "output_type": "stream",
     "text": [
      "Created step convert_to_csv.py [19faa7e9][6cb830d9-8c20-4bad-8d40-be97a3496f87], (This step is eligible to reuse a previous run's output)\n",
      "Using data reference test_data for StepId [10cd4867][8a1a6ee0-2771-46da-87d6-892348348b05], (Consumers of this data are eligible to reuse prior runs.)\n",
      "Submitted PipelineRun 69ccb149-61fb-49ea-b629-66b184a7e607\n",
      "Link to Azure Machine Learning studio: https://ml.azure.com/experiments/Parse_Aesop_PDF/runs/69ccb149-61fb-49ea-b629-66b184a7e607?wsid=/subscriptions/cd309673-f356-437c-b53a-ef46d5ec9635/resourcegroups/bookstrator_intro/workspaces/Bookstrator_1\n",
      "PipelineRunId: 69ccb149-61fb-49ea-b629-66b184a7e607\n",
      "Link to Portal: https://ml.azure.com/experiments/Parse_Aesop_PDF/runs/69ccb149-61fb-49ea-b629-66b184a7e607?wsid=/subscriptions/cd309673-f356-437c-b53a-ef46d5ec9635/resourcegroups/bookstrator_intro/workspaces/Bookstrator_1\n",
      "PipelineRun Status: Running\n",
      "\n",
      "\n",
      "StepRunId: ec813bad-e307-4f12-a49e-9c565fe9b61d\n",
      "Link to Portal: https://ml.azure.com/experiments/Parse_Aesop_PDF/runs/ec813bad-e307-4f12-a49e-9c565fe9b61d?wsid=/subscriptions/cd309673-f356-437c-b53a-ef46d5ec9635/resourcegroups/bookstrator_intro/workspaces/Bookstrator_1\n",
      "StepRun( convert_to_csv.py ) Status: Running\n",
      "\n",
      "Streaming azureml-logs/20_image_build_log.txt\n",
      "=============================================\n",
      "2020/03/03 11:26:14 Downloading source code...\n",
      "2020/03/03 11:26:15 Finished downloading source code\n",
      "2020/03/03 11:26:16 Creating Docker network: acb_default_network, driver: 'bridge'\n",
      "2020/03/03 11:26:16 Successfully set up Docker network: acb_default_network\n",
      "2020/03/03 11:26:16 Setting up Docker configuration...\n",
      "2020/03/03 11:26:17 Successfully set up Docker configuration\n",
      "2020/03/03 11:26:17 Logging in to registry: bookstrator148bb5390.azurecr.io\n",
      "2020/03/03 11:26:18 Successfully logged into bookstrator148bb5390.azurecr.io\n",
      "2020/03/03 11:26:18 Executing step ID: acb_step_0. Timeout(sec): 5400, Working directory: '', Network: 'acb_default_network'\n",
      "2020/03/03 11:26:18 Scanning for dependencies...\n",
      "2020/03/03 11:26:19 Successfully scanned dependencies\n",
      "2020/03/03 11:26:19 Launching container with name: acb_step_0\n",
      "Sending build context to Docker daemon  60.93kB\n",
      "\n",
      "Step 1/15 : FROM mcr.microsoft.com/azureml/base:intelmpi2018.3-ubuntu16.04@sha256:a1b514f3ba884b9a7695cbba5638933ddaf222e8ce3e8c81e8cdf861679abb05\n",
      "sha256:a1b514f3ba884b9a7695cbba5638933ddaf222e8ce3e8c81e8cdf861679abb05: Pulling from azureml/base\n",
      "Digest: sha256:a1b514f3ba884b9a7695cbba5638933ddaf222e8ce3e8c81e8cdf861679abb05\n",
      "Status: Downloaded newer image for mcr.microsoft.com/azureml/base:intelmpi2018.3-ubuntu16.04@sha256:a1b514f3ba884b9a7695cbba5638933ddaf222e8ce3e8c81e8cdf861679abb05\n",
      " ---> 93a72e6bd1ce\n",
      "Step 2/15 : USER root\n",
      " ---> Running in d210053c2769\n",
      "Removing intermediate container d210053c2769\n",
      " ---> 978241b7958d\n",
      "Step 3/15 : RUN mkdir -p $HOME/.cache\n",
      " ---> Running in f7cf15ea902f\n",
      "Removing intermediate container f7cf15ea902f\n",
      " ---> fd7ddb7825df\n",
      "Step 4/15 : WORKDIR /\n",
      " ---> Running in fbaf307a74b7\n",
      "Removing intermediate container fbaf307a74b7\n",
      " ---> 3624cf72c445\n",
      "Step 5/15 : COPY azureml-environment-setup/99brokenproxy /etc/apt/apt.conf.d/\n",
      " ---> 7e9c01ee1b28\n",
      "Step 6/15 : RUN if dpkg --compare-versions `conda --version | grep -oE '[^ ]+$'` lt 4.4.11; then conda install conda==4.4.11; fi\n",
      " ---> Running in 8e2131922305\n",
      "Removing intermediate container 8e2131922305\n",
      " ---> ad6c256ce6dc\n",
      "Step 7/15 : COPY azureml-environment-setup/mutated_conda_dependencies.yml azureml-environment-setup/mutated_conda_dependencies.yml\n",
      " ---> d53820bde7f7\n",
      "Step 8/15 : RUN ldconfig /usr/local/cuda/lib64/stubs && conda env create -p /azureml-envs/azureml_cdf40690fdf959df045b77be181464fc -f azureml-environment-setup/mutated_conda_dependencies.yml && rm -rf \"$HOME/.cache/pip\" && conda clean -aqy && CONDA_ROOT_DIR=$(conda info --root) && rm -rf \"$CONDA_ROOT_DIR/pkgs\" && find \"$CONDA_ROOT_DIR\" -type d -name __pycache__ -exec rm -rf {} + && ldconfig\n",
      " ---> Running in b3c9eb6428b1\n",
      "Solving environment: ...working... \n",
      "done\n",
      "\u001b[91m\n",
      "\n",
      "==> WARNING: A newer version of conda exists. <==\n",
      "  current version: 4.5.11\n",
      "  latest version: 4.8.2\n",
      "\n",
      "Please update conda by running\n",
      "\n",
      "    $ conda update -n base -c defaults conda\n",
      "\n",
      "\n",
      "\n",
      "_libgcc_mutex-0.1    | 3 KB      |            |   0% \u001b[0m\u001b[91m\n",
      "_libgcc_mutex-0.1    | 3 KB      | ########## | 100% \u001b[0m\u001b[91m\n",
      "\n",
      "setuptools-45.2.0    | 653 KB    |            |   0% \u001b[0m\u001b[91m\n",
      "setuptools-45.2.0    | 653 KB    | ########4  |  85% \u001b[0m\u001b[91m\n",
      "setuptools-45.2.0    | 653 KB    | ########## | 100% \u001b[0m\u001b[91m\n",
      "\n",
      "readline-6.2         | 713 KB    |            |   0% \u001b[0m\u001b[91m\n",
      "readline-6.2         | 713 KB    | ########4  |  85% \u001b[0m\u001b[91m\n",
      "readline-6.2         | 713 KB    | ########## | 100% \u001b[0m\u001b[91m\n",
      "\n",
      "certifi-2019.11.28   | 149 KB    |            |   0% \u001b[0m\u001b[91m\n",
      "certifi-2019.11.28   | 149 KB    | ########## | 100% \u001b[0m\u001b[91m\n",
      "\n",
      "zlib-1.2.11          | 105 KB    |            |   0% \u001b[0m\u001b[91m\n",
      "zlib-1.2.11          | 105 KB    | ########## | 100% \u001b[0m\u001b[91m\n",
      "\n",
      "tk-8.5.19            | 1.9 MB    |            |   0% \u001b[0m\u001b[91m\n",
      "tk-8.5.19            | 1.9 MB    | #######7   |  78% \u001b[0m\u001b[91m\n",
      "tk-8.5.19            | 1.9 MB    | #########3 |  93% \u001b[0m\u001b[91m\n",
      "tk-8.5.19            | 1.9 MB    | ########## | 100% \u001b[0m\u001b[91m\n",
      "\n",
      "ca-certificates-2019 | 145 KB    |            |   0% \u001b[0m\u001b[91m\n",
      "ca-certificates-2019 | 145 KB    | ########## | 100% \u001b[0m\u001b[91m\n",
      "\n",
      "openssl-1.0.2u       | 3.2 MB    |            |   0% \u001b[0m\u001b[91m\n",
      "openssl-1.0.2u       | 3.2 MB    | #######6   |  76% \u001b[0m\u001b[91m\n",
      "openssl-1.0.2u       | 3.2 MB    | #########3 |  94% \u001b[0m\u001b[91m\n",
      "openssl-1.0.2u       | 3.2 MB    | ########## | 100% \u001b[0m\u001b[91m\n",
      "\n",
      "ncurses-5.9          | 1.1 MB    |            |   0% \u001b[0m\u001b[91m\n",
      "ncurses-5.9          | 1.1 MB    | #######8   |  79% \u001b[0m\u001b[91m\n",
      "ncurses-5.9          | 1.1 MB    | ########9  |  90% \u001b[0m\u001b[91m\n",
      "ncurses-5.9          | 1.1 MB    | ########## | 100% \u001b[0m\u001b[91m\n",
      "\n",
      "sqlite-3.13.0        | 4.9 MB    |            |   0% \u001b[0m\u001b[91m\n",
      "sqlite-3.13.0        | 4.9 MB    | #######5   |  75% \u001b[0m\u001b[91m\n",
      "sqlite-3.13.0        | 4.9 MB    | #########7 |  98% \u001b[0m\u001b[91m\n",
      "sqlite-3.13.0        | 4.9 MB    | ########## | 100% \u001b[0m\u001b[91m\n",
      "\n",
      "libgcc-ng-9.2.0      | 8.2 MB    |            |   0% \u001b[0m\u001b[91m\n",
      "libgcc-ng-9.2.0      | 8.2 MB    | ######6    |  66% \u001b[0m\u001b[91m\n",
      "libgcc-ng-9.2.0      | 8.2 MB    | ########5  |  86% \u001b[0m\u001b[91m\n",
      "libgcc-ng-9.2.0      | 8.2 MB    | ########## | 100% \u001b[0m\u001b[91m\n",
      "\n",
      "wheel-0.34.2         | 24 KB     |            |   0% \u001b[0m\u001b[91m\n",
      "wheel-0.34.2         | 24 KB     | ########## | 100% \u001b[0m\u001b[91m\n",
      "\n",
      "libgomp-9.2.0        | 816 KB    |            |   0% \u001b[0m\u001b[91m\n",
      "libgomp-9.2.0        | 816 KB    | #########5 |  95% \u001b[0m\u001b[91m\n",
      "libgomp-9.2.0        | 816 KB    | ########## | 100% \u001b[0m\u001b[91m\n",
      "\n",
      "xz-5.2.4             | 366 KB    |            |   0% \u001b[0m\u001b[91m\n",
      "xz-5.2.4             | 366 KB    | #########5 |  95% \u001b[0m\u001b[91m\n",
      "xz-5.2.4             | 366 KB    | ########## | 100% \u001b[0m\u001b[91m\n",
      "\n",
      "_openmp_mutex-4.5    | 435 KB    |            |   0% \u001b[0m\u001b[91m\n",
      "_openmp_mutex-4.5    | 435 KB    | ########6  |  86% \u001b[0m\u001b[91m\n",
      "_openmp_mutex-4.5    | 435 KB    | ########## | 100% \u001b[0m\u001b[91m\n",
      "\n",
      "python-3.6.2         | 19.0 MB   |            |   0% \u001b[0m\u001b[91m\n",
      "python-3.6.2         | 19.0 MB   | ##         |  20% \u001b[0m\u001b[91m\n",
      "python-3.6.2         | 19.0 MB   | ####5      |  46% \u001b[0m\u001b[91m\n",
      "python-3.6.2         | 19.0 MB   | #######5   |  75% \u001b[0m\u001b[91m\n",
      "python-3.6.2         | 19.0 MB   | #########2 |  92% \u001b[0m\u001b[91m\n",
      "python-3.6.2         | 19.0 MB   | ########## | 100% \u001b[0m\u001b[91m\n",
      "\n",
      "pip-20.0.2           | 1.0 MB    |            |   0% \u001b[0m\u001b[91m\n",
      "pip-20.0.2           | 1.0 MB    | #######9   |  80% \u001b[0m\u001b[91m\n",
      "pip-20.0.2           | 1.0 MB    | #########7 |  97% \u001b[0m\u001b[91m\n",
      "pip-20.0.2           | 1.0 MB    | ########## | 100% \u001b[0m\n",
      "Downloading and Extracting Packages\n",
      "Preparing transaction: ...working... done\n",
      "Verifying transaction: ...working... done\n",
      "Executing transaction: ...working... \n",
      "done\n",
      "Collecting azureml-defaults\n",
      "  Downloading azureml_defaults-1.0.85.1-py2.py3-none-any.whl (3.0 kB)\n",
      "\u001b[91mERROR: Could not find a version that satisfies the requirement PyMuPDF==1.16.11==0.21.3 (from -r /azureml-environment-setup/condaenv.wevt4y9y.requirements.txt (line 2)) (from versions: 1.11.2, 1.12.5, 1.13.20, 1.14.19.post2, 1.14.19.2, 1.14.20, 1.14.21, 1.16.0, 1.16.1, 1.16.2, 1.16.3, 1.16.4, 1.16.5, 1.16.6, 1.16.7, 1.16.8, 1.16.8.1, 1.16.9, 1.16.10, 1.16.11)\n",
      "\u001b[0m\u001b[91mERROR: No matching distribution found for PyMuPDF==1.16.11==0.21.3 (from -r /azureml-environment-setup/condaenv.wevt4y9y.requirements.txt (line 2))\n",
      "\u001b[0m\u001b[91m\n",
      "\n",
      "CondaValueError: pip returned an error\n",
      "\n",
      "\u001b[0mThe command '/bin/sh -c ldconfig /usr/local/cuda/lib64/stubs && conda env create -p /azureml-envs/azureml_cdf40690fdf959df045b77be181464fc -f azureml-environment-setup/mutated_conda_dependencies.yml && rm -rf \"$HOME/.cache/pip\" && conda clean -aqy && CONDA_ROOT_DIR=$(conda info --root) && rm -rf \"$CONDA_ROOT_DIR/pkgs\" && find \"$CONDA_ROOT_DIR\" -type d -name __pycache__ -exec rm -rf {} + && ldconfig' returned a non-zero code: 1\n"
     ]
    },
    {
     "name": "stdout",
     "output_type": "stream",
     "text": [
      "2020/03/03 11:27:34 Container failed during run: acb_step_0. No retries remaining.\n",
      "failed to run step ID: acb_step_0: exit status 1\n",
      "\n",
      "Run ID: cj1 failed after 1m20s. Error: failed during run, err: exit status 1\n",
      "\n",
      "StepRun(convert_to_csv.py) Execution Summary\n",
      "=============================================\n",
      "StepRun( convert_to_csv.py ) Status: Failed\n",
      "\n",
      "Warnings:\n",
      "This compute target type doesn't support non-Docker runs; overriding run configuration to enable Docker.\n",
      "Please enable Docker in the environment section of your run configuration to stop seeing this warning message.\n"
     ]
    },
    {
     "ename": "ActivityFailedException",
     "evalue": "ActivityFailedException:\n\tMessage: Activity Failed:\n{\n    \"error\": {\n        \"code\": \"UserError\",\n        \"message\": \"Image build failed. For more details, check log file azureml-logs/20_image_build_log.txt\",\n        \"details\": []\n    },\n    \"correlation\": {\n        \"operation\": null,\n        \"request\": \"6b76c0b03d6029fb\"\n    },\n    \"environment\": \"centralus\",\n    \"location\": \"centralus\",\n    \"time\": \"2020-03-03T11:27:42.580087Z\"\n}\n\tInnerException None\n\tErrorResponse \n{\n    \"error\": {\n        \"message\": \"Activity Failed:\\n{\\n    \\\"error\\\": {\\n        \\\"code\\\": \\\"UserError\\\",\\n        \\\"message\\\": \\\"Image build failed. For more details, check log file azureml-logs/20_image_build_log.txt\\\",\\n        \\\"details\\\": []\\n    },\\n    \\\"correlation\\\": {\\n        \\\"operation\\\": null,\\n        \\\"request\\\": \\\"6b76c0b03d6029fb\\\"\\n    },\\n    \\\"environment\\\": \\\"centralus\\\",\\n    \\\"location\\\": \\\"centralus\\\",\\n    \\\"time\\\": \\\"2020-03-03T11:27:42.580087Z\\\"\\n}\"\n    }\n}",
     "output_type": "error",
     "traceback": [
      "\u001b[1;31m---------------------------------------------------------------------------\u001b[0m",
      "\u001b[1;31mActivityFailedException\u001b[0m                   Traceback (most recent call last)",
      "\u001b[1;32m<ipython-input-64-9f52f8873ed0>\u001b[0m in \u001b[0;36m<module>\u001b[1;34m\u001b[0m\n\u001b[0;32m      3\u001b[0m \u001b[1;31m# Submit the pipeline to be run\u001b[0m\u001b[1;33m\u001b[0m\u001b[1;33m\u001b[0m\u001b[1;33m\u001b[0m\u001b[0m\n\u001b[0;32m      4\u001b[0m \u001b[0mpipeline_run1\u001b[0m \u001b[1;33m=\u001b[0m \u001b[0mExperiment\u001b[0m\u001b[1;33m(\u001b[0m\u001b[0mws\u001b[0m\u001b[1;33m,\u001b[0m \u001b[1;34m'Parse_Aesop_PDF'\u001b[0m\u001b[1;33m)\u001b[0m\u001b[1;33m.\u001b[0m\u001b[0msubmit\u001b[0m\u001b[1;33m(\u001b[0m\u001b[0mpipeline1\u001b[0m\u001b[1;33m)\u001b[0m\u001b[1;33m\u001b[0m\u001b[1;33m\u001b[0m\u001b[0m\n\u001b[1;32m----> 5\u001b[1;33m \u001b[0mpipeline_run1\u001b[0m\u001b[1;33m.\u001b[0m\u001b[0mwait_for_completion\u001b[0m\u001b[1;33m(\u001b[0m\u001b[1;33m)\u001b[0m\u001b[1;33m\u001b[0m\u001b[1;33m\u001b[0m\u001b[0m\n\u001b[0m",
      "\u001b[1;32m~\\Anaconda3\\envs\\bookstrator\\lib\\site-packages\\azureml\\pipeline\\core\\run.py\u001b[0m in \u001b[0;36mwait_for_completion\u001b[1;34m(self, show_output, timeout_seconds, raise_on_error)\u001b[0m\n\u001b[0;32m    289\u001b[0m                             \u001b[0mprint\u001b[0m\u001b[1;33m(\u001b[0m\u001b[1;34m'\\n'\u001b[0m\u001b[1;33m)\u001b[0m\u001b[1;33m\u001b[0m\u001b[1;33m\u001b[0m\u001b[0m\n\u001b[0;32m    290\u001b[0m                             step_run.wait_for_completion(timeout_seconds=timeout_seconds - time_elapsed,\n\u001b[1;32m--> 291\u001b[1;33m                                                          raise_on_error=raise_on_error)\n\u001b[0m\u001b[0;32m    292\u001b[0m                             \u001b[0mprint\u001b[0m\u001b[1;33m(\u001b[0m\u001b[1;34m''\u001b[0m\u001b[1;33m)\u001b[0m\u001b[1;33m\u001b[0m\u001b[1;33m\u001b[0m\u001b[0m\n\u001b[0;32m    293\u001b[0m                     \u001b[1;32mif\u001b[0m \u001b[0mtime\u001b[0m\u001b[1;33m.\u001b[0m\u001b[0mtime\u001b[0m\u001b[1;33m(\u001b[0m\u001b[1;33m)\u001b[0m \u001b[1;33m-\u001b[0m \u001b[0mstart_time\u001b[0m \u001b[1;33m>\u001b[0m \u001b[0mtimeout_seconds\u001b[0m\u001b[1;33m:\u001b[0m\u001b[1;33m\u001b[0m\u001b[1;33m\u001b[0m\u001b[0m\n",
      "\u001b[1;32m~\\Anaconda3\\envs\\bookstrator\\lib\\site-packages\\azureml\\pipeline\\core\\run.py\u001b[0m in \u001b[0;36mwait_for_completion\u001b[1;34m(self, show_output, timeout_seconds, raise_on_error)\u001b[0m\n\u001b[0;32m    714\u001b[0m             \u001b[1;32mtry\u001b[0m\u001b[1;33m:\u001b[0m\u001b[1;33m\u001b[0m\u001b[1;33m\u001b[0m\u001b[0m\n\u001b[0;32m    715\u001b[0m                 return self._stream_run_output(timeout_seconds=timeout_seconds,\n\u001b[1;32m--> 716\u001b[1;33m                                                raise_on_error=raise_on_error)\n\u001b[0m\u001b[0;32m    717\u001b[0m             \u001b[1;32mexcept\u001b[0m \u001b[0mKeyboardInterrupt\u001b[0m\u001b[1;33m:\u001b[0m\u001b[1;33m\u001b[0m\u001b[1;33m\u001b[0m\u001b[0m\n\u001b[0;32m    718\u001b[0m                 \u001b[0merror_message\u001b[0m \u001b[1;33m=\u001b[0m \u001b[1;34m\"The output streaming for the run interrupted.\\n\"\u001b[0m\u001b[0;31m \u001b[0m\u001b[0;31m\\\u001b[0m\u001b[1;33m\u001b[0m\u001b[1;33m\u001b[0m\u001b[0m\n",
      "\u001b[1;32m~\\Anaconda3\\envs\\bookstrator\\lib\\site-packages\\azureml\\pipeline\\core\\run.py\u001b[0m in \u001b[0;36m_stream_run_output\u001b[1;34m(self, timeout_seconds, raise_on_error)\u001b[0m\n\u001b[0;32m    802\u001b[0m             \u001b[0mprint\u001b[0m\u001b[1;33m(\u001b[0m\u001b[0mjson\u001b[0m\u001b[1;33m.\u001b[0m\u001b[0mdumps\u001b[0m\u001b[1;33m(\u001b[0m\u001b[0merror\u001b[0m\u001b[1;33m,\u001b[0m \u001b[0mindent\u001b[0m\u001b[1;33m=\u001b[0m\u001b[1;36m4\u001b[0m\u001b[1;33m)\u001b[0m\u001b[1;33m)\u001b[0m\u001b[1;33m\u001b[0m\u001b[1;33m\u001b[0m\u001b[0m\n\u001b[0;32m    803\u001b[0m         \u001b[1;32mif\u001b[0m \u001b[0merror\u001b[0m \u001b[1;32mand\u001b[0m \u001b[0mraise_on_error\u001b[0m\u001b[1;33m:\u001b[0m\u001b[1;33m\u001b[0m\u001b[1;33m\u001b[0m\u001b[0m\n\u001b[1;32m--> 804\u001b[1;33m             \u001b[1;32mraise\u001b[0m \u001b[0mActivityFailedException\u001b[0m\u001b[1;33m(\u001b[0m\u001b[0merror_details\u001b[0m\u001b[1;33m=\u001b[0m\u001b[0mjson\u001b[0m\u001b[1;33m.\u001b[0m\u001b[0mdumps\u001b[0m\u001b[1;33m(\u001b[0m\u001b[0merror\u001b[0m\u001b[1;33m,\u001b[0m \u001b[0mindent\u001b[0m\u001b[1;33m=\u001b[0m\u001b[1;36m4\u001b[0m\u001b[1;33m)\u001b[0m\u001b[1;33m)\u001b[0m\u001b[1;33m\u001b[0m\u001b[1;33m\u001b[0m\u001b[0m\n\u001b[0m\u001b[0;32m    805\u001b[0m \u001b[1;33m\u001b[0m\u001b[0m\n\u001b[0;32m    806\u001b[0m         \u001b[0mprint\u001b[0m\u001b[1;33m(\u001b[0m\u001b[0mfinal_details\u001b[0m\u001b[1;33m)\u001b[0m\u001b[1;33m\u001b[0m\u001b[1;33m\u001b[0m\u001b[0m\n",
      "\u001b[1;31mActivityFailedException\u001b[0m: ActivityFailedException:\n\tMessage: Activity Failed:\n{\n    \"error\": {\n        \"code\": \"UserError\",\n        \"message\": \"Image build failed. For more details, check log file azureml-logs/20_image_build_log.txt\",\n        \"details\": []\n    },\n    \"correlation\": {\n        \"operation\": null,\n        \"request\": \"6b76c0b03d6029fb\"\n    },\n    \"environment\": \"centralus\",\n    \"location\": \"centralus\",\n    \"time\": \"2020-03-03T11:27:42.580087Z\"\n}\n\tInnerException None\n\tErrorResponse \n{\n    \"error\": {\n        \"message\": \"Activity Failed:\\n{\\n    \\\"error\\\": {\\n        \\\"code\\\": \\\"UserError\\\",\\n        \\\"message\\\": \\\"Image build failed. For more details, check log file azureml-logs/20_image_build_log.txt\\\",\\n        \\\"details\\\": []\\n    },\\n    \\\"correlation\\\": {\\n        \\\"operation\\\": null,\\n        \\\"request\\\": \\\"6b76c0b03d6029fb\\\"\\n    },\\n    \\\"environment\\\": \\\"centralus\\\",\\n    \\\"location\\\": \\\"centralus\\\",\\n    \\\"time\\\": \\\"2020-03-03T11:27:42.580087Z\\\"\\n}\"\n    }\n}"
     ]
    }
   ],
   "source": [
    "from azureml.core import Experiment\n",
    "\n",
    "# Submit the pipeline to be run\n",
    "pipeline_run1 = Experiment(ws, 'Parse_Aesop_PDF').submit(pipeline1)\n",
    "pipeline_run1.wait_for_completion()"
   ]
  },
  {
   "cell_type": "code",
   "execution_count": null,
   "metadata": {},
   "outputs": [],
   "source": []
  }
 ],
 "metadata": {
  "kernelspec": {
   "display_name": "Python (bookstrator)",
   "language": "python",
   "name": "myenv"
  },
  "language_info": {
   "codemirror_mode": {
    "name": "ipython",
    "version": 3
   },
   "file_extension": ".py",
   "mimetype": "text/x-python",
   "name": "python",
   "nbconvert_exporter": "python",
   "pygments_lexer": "ipython3",
   "version": "3.7.5"
  }
 },
 "nbformat": 4,
 "nbformat_minor": 4
}
