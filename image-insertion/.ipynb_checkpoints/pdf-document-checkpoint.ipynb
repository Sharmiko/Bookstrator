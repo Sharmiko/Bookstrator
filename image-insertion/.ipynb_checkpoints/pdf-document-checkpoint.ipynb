{
 "cells": [
  {
   "cell_type": "code",
   "execution_count": 188,
   "metadata": {},
   "outputs": [],
   "source": [
    "import fitz"
   ]
  },
  {
   "cell_type": "code",
   "execution_count": 233,
   "metadata": {},
   "outputs": [],
   "source": [
    "document = fitz.open('data/test.pdf')\n",
    "output = fitz.Document()"
   ]
  },
  {
   "cell_type": "code",
   "execution_count": 234,
   "metadata": {},
   "outputs": [],
   "source": [
    "def get_content(blocks):\n",
    "    title = ''\n",
    "    \n",
    "    spans = { 'title': [], 'body': [] }\n",
    "    \n",
    "    for block in blocks:\n",
    "        lines = block.get(\"lines\")\n",
    "\n",
    "        for line in lines:\n",
    "            span = line.get(\"spans\")[0]\n",
    "\n",
    "            span_size = int(span.get(\"size\"))\n",
    "            if span_size == 18:\n",
    "                title += span.get('text')\n",
    "                spans['title'].append(span)\n",
    "            elif span_size == 16:\n",
    "                spans['body'].append(span)\n",
    "    \n",
    "    return { 'title': title, 'spans': spans }"
   ]
  },
  {
   "cell_type": "code",
   "execution_count": 235,
   "metadata": {},
   "outputs": [],
   "source": [
    "def fill_page(page, spans, image_path, image_start=(50, 0), image_end=(350, 250)):\n",
    "    insert_y = 0 # y location of the next item\n",
    "\n",
    "    if len(spans['title']) > 0:\n",
    "        insert_y = spans['title'][0]['bbox'][1]\n",
    "\n",
    "        for span in spans['title']:\n",
    "            insert_x = span['bbox'][0]\n",
    "            page.insertText(\n",
    "                (insert_x, insert_y),\n",
    "                fontname='tiro',\n",
    "                fontsize=span['size'],\n",
    "                text=span['text']\n",
    "            )\n",
    "            insert_y = span['bbox'][3]\n",
    "            \n",
    "    # add image if provided\n",
    "    y_delta = 0\n",
    "    \n",
    "    if image_path is not None:\n",
    "        img_width = image_end[0] - image_start[0]\n",
    "        doc_width = page.getPixmap().width\n",
    "        x_offset = (doc_width - img_width) / 2 \n",
    "        rect = fitz.Rect(\n",
    "            x_offset + image_start[0],\n",
    "            insert_y + image_start[1],\n",
    "            x_offset + image_end[0],\n",
    "            insert_y + image_end[1])\n",
    "        pix = fitz.Pixmap(image_path)\n",
    "        page.insertImage(rect, pixmap=pix, overlay=True)\n",
    "        y_delta = rect.height\n",
    "    \n",
    "    # add body\n",
    "    if len(spans['body']) > 0:\n",
    "        for span in spans['body']:\n",
    "            try:\n",
    "                insert_x = span['bbox'][0]\n",
    "                insert_y = span['bbox'][3] + y_delta\n",
    "                page.insertText(\n",
    "                    (insert_x, insert_y),\n",
    "                    fontname='tiro',\n",
    "                    fontsize=span['size'],\n",
    "                    text=span['text']\n",
    "                )\n",
    "            except:\n",
    "                break"
   ]
  },
  {
   "cell_type": "code",
   "execution_count": 236,
   "metadata": {
    "scrolled": true
   },
   "outputs": [
    {
     "name": "stdout",
     "output_type": "stream",
     "text": [
      "148.0\n"
     ]
    }
   ],
   "source": [
    "for pno, page in enumerate(document.pages()):\n",
    "    blocks = page.getDisplayList().getTextPage().extractDICT().get(\"blocks\")\n",
    "    out_page = output.newPage(pno=pno, width=page.getPixmap().width, height=page.getPixmap().height)\n",
    "    content = get_content(blocks)\n",
    "    image_path = 'data/images/%s.jpg' % content['title'] if len(content['title']) != 0 else None\n",
    "                \n",
    "    fill_page(out_page, content['spans'], image_path)"
   ]
  },
  {
   "cell_type": "code",
   "execution_count": 237,
   "metadata": {},
   "outputs": [],
   "source": [
    "output.save('data/output.pdf')\n",
    "output.close()\n",
    "document.close()"
   ]
  },
  {
   "cell_type": "code",
   "execution_count": null,
   "metadata": {},
   "outputs": [],
   "source": []
  }
 ],
 "metadata": {
  "kernelspec": {
   "display_name": "Python 3",
   "language": "python",
   "name": "python3"
  },
  "language_info": {
   "codemirror_mode": {
    "name": "ipython",
    "version": 3
   },
   "file_extension": ".py",
   "mimetype": "text/x-python",
   "name": "python",
   "nbconvert_exporter": "python",
   "pygments_lexer": "ipython3",
   "version": "3.7.5"
  }
 },
 "nbformat": 4,
 "nbformat_minor": 4
}
