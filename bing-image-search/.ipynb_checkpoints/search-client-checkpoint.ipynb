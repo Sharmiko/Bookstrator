{
 "cells": [
  {
   "cell_type": "code",
   "execution_count": 1,
   "metadata": {},
   "outputs": [],
   "source": [
    "import requests\n",
    "from io import BytesIO\n",
    "import urllib.request\n",
    "import os\n",
    "import pathlib\n",
    "from multiprocessing.pool import ThreadPool\n",
    "import uuid"
   ]
  },
  {
   "cell_type": "code",
   "execution_count": 2,
   "metadata": {},
   "outputs": [],
   "source": [
    "subscription_key = \"1d6282a6861c44a69637a59609904218\"\n",
    "search_url = \"https://api.cognitive.microsoft.com/bing/v7.0/images/search\""
   ]
  },
  {
   "cell_type": "code",
   "execution_count": 3,
   "metadata": {},
   "outputs": [],
   "source": [
    "def get_urls(query, num_images=8):\n",
    "    headers = {\"Ocp-Apim-Subscription-Key\" : subscription_key}\n",
    "    params  = {\"q\": query, \"license\": \"public\", \"imageType\": \"photo\"}\n",
    "    response = requests.get(search_url, headers=headers, params=params)\n",
    "    response.raise_for_status()\n",
    "    search_results = response.json()\n",
    "    thumbnail_urls = [img[\"thumbnailUrl\"] for img in search_results[\"value\"][:num_images]]\n",
    "    return thumbnail_urls"
   ]
  },
  {
   "cell_type": "code",
   "execution_count": 4,
   "metadata": {},
   "outputs": [],
   "source": [
    "thumbnail_urls = get_urls('dog isolated')"
   ]
  },
  {
   "cell_type": "code",
   "execution_count": 5,
   "metadata": {},
   "outputs": [],
   "source": [
    "def download_from_url(url, dest_dir):\n",
    "    filename = dest_dir + '/' + str(uuid.uuid4()) + '.jpg'\n",
    "    urllib.request.urlretrieve(url, filename)"
   ]
  },
  {
   "cell_type": "code",
   "execution_count": 6,
   "metadata": {},
   "outputs": [],
   "source": [
    "def download_from_urls(urls, query, dest_dir='.', num_threads=8):\n",
    "    dest_dir += '/' + query\n",
    "\n",
    "    # get callback for thread\n",
    "    def download_fn(url):\n",
    "        download_from_url(url, dest_dir)\n",
    "    \n",
    "    try:\n",
    "        if not pathlib.Path(dest_dir).exists():\n",
    "            os.mkdir(dest_dir)\n",
    "        ThreadPool(num_threads).imap_unordered(download_fn, urls)\n",
    "    except:\n",
    "        print('error occured while dowloading images')"
   ]
  },
  {
   "cell_type": "code",
   "execution_count": 7,
   "metadata": {},
   "outputs": [],
   "source": [
    "download_from_urls(thumbnail_urls, 'dog', dest_dir='search-results')"
   ]
  }
 ],
 "metadata": {
  "kernelspec": {
   "display_name": "Python 3",
   "language": "python",
   "name": "python3"
  },
  "language_info": {
   "codemirror_mode": {
    "name": "ipython",
    "version": 3
   },
   "file_extension": ".py",
   "mimetype": "text/x-python",
   "name": "python",
   "nbconvert_exporter": "python",
   "pygments_lexer": "ipython3",
   "version": "3.7.3"
  }
 },
 "nbformat": 4,
 "nbformat_minor": 2
}
