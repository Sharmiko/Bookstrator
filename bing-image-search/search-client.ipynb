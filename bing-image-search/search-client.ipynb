{
 "cells": [
  {
   "cell_type": "code",
   "execution_count": 1,
   "metadata": {},
   "outputs": [],
   "source": [
    "import requests\n",
    "from io import BytesIO\n",
    "\n",
    "subscription_key = \"1d6282a6861c44a69637a59609904218\"\n",
    "search_url = \"https://api.cognitive.microsoft.com/bing/v7.0/images/search\""
   ]
  },
  {
   "cell_type": "code",
   "execution_count": 2,
   "metadata": {},
   "outputs": [],
   "source": [
    "headers = {\"Ocp-Apim-Subscription-Key\" : subscription_key}"
   ]
  },
  {
   "cell_type": "code",
   "execution_count": 3,
   "metadata": {},
   "outputs": [],
   "source": [
    "params  = {\"q\": 'bat', \"license\": \"public\", \"imageType\": \"photo\"}"
   ]
  },
  {
   "cell_type": "code",
   "execution_count": 4,
   "metadata": {},
   "outputs": [],
   "source": [
    "response = requests.get(search_url, headers=headers, params=params)\n",
    "response.raise_for_status()\n",
    "search_results = response.json()\n",
    "thumbnail_urls = [img[\"thumbnailUrl\"] for img in search_results[\"value\"][:16]]"
   ]
  },
  {
   "cell_type": "code",
   "execution_count": 5,
   "metadata": {},
   "outputs": [
    {
     "data": {
      "text/plain": [
       "['https://tse2.mm.bing.net/th?id=OIP.BgNGdTr_AcG2MYuGGfnXuwHaF7&pid=Api',\n",
       " 'https://tse1.mm.bing.net/th?id=OIP.IIni8iOFTBl6_hjZwcyT0gHaEj&pid=Api',\n",
       " 'https://tse4.mm.bing.net/th?id=OIP.zuebRKYOmI7M40uku31wBQHaE7&pid=Api',\n",
       " 'https://tse2.mm.bing.net/th?id=OIP.GFruucx2BxzXVtFfgS964wHaLH&pid=Api',\n",
       " 'https://tse2.mm.bing.net/th?id=OIP.z9dhj0C6uAM11Y66VpxVAwHaDt&pid=Api',\n",
       " 'https://tse3.mm.bing.net/th?id=OIP.wAzuYR4gp0nEglE4De_3BwHaEj&pid=Api',\n",
       " 'https://tse3.mm.bing.net/th?id=OIP.xVhbvnlfZMEcAY6aEys7iwHaE8&pid=Api',\n",
       " 'https://tse3.mm.bing.net/th?id=OIP.tr9IYMkNXlrJPvDN2Mo-mgHaFc&pid=Api',\n",
       " 'https://tse1.mm.bing.net/th?id=OIP.4w3BfpSBq4ac5RZb_PZntwHaE7&pid=Api',\n",
       " 'https://tse2.mm.bing.net/th?id=OIP.yJMNss2TyGNeG527A4agQgHaFa&pid=Api',\n",
       " 'https://tse4.mm.bing.net/th?id=OIP.4Z60kJVoofqMMvxaTcJckgAAAA&pid=Api',\n",
       " 'https://tse2.mm.bing.net/th?id=OIP.YLuqTCiv6iNWzgTqa1q84gHaEL&pid=Api',\n",
       " 'https://tse1.mm.bing.net/th?id=OIP.Hwtb3MlHZKzf4CVCgt8q2AHaLH&pid=Api',\n",
       " 'https://tse1.mm.bing.net/th?id=OIP.wkRRppVrOPM1j5hfmnGzRgHaE9&pid=Api',\n",
       " 'https://tse2.mm.bing.net/th?id=OIP.mB2US5Illdq82uwvD_SQTgHaJ4&pid=Api',\n",
       " 'https://tse1.mm.bing.net/th?id=OIP.n3BTIQJ3b2F7SAedp8A0kQHaFj&pid=Api']"
      ]
     },
     "execution_count": 5,
     "metadata": {},
     "output_type": "execute_result"
    }
   ],
   "source": [
    "thumbnail_urls"
   ]
  },
  {
   "cell_type": "code",
   "execution_count": null,
   "metadata": {},
   "outputs": [],
   "source": []
  }
 ],
 "metadata": {
  "kernelspec": {
   "display_name": "Python 3",
   "language": "python",
   "name": "python3"
  },
  "language_info": {
   "codemirror_mode": {
    "name": "ipython",
    "version": 3
   },
   "file_extension": ".py",
   "mimetype": "text/x-python",
   "name": "python",
   "nbconvert_exporter": "python",
   "pygments_lexer": "ipython3",
   "version": "3.7.3"
  }
 },
 "nbformat": 4,
 "nbformat_minor": 2
}
